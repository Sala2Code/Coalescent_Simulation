{
 "cells": [
  {
   "cell_type": "markdown",
   "id": "ebf262cc",
   "metadata": {},
   "source": [
    "# Introduction to Coalescent Theory"
   ]
  },
  {
   "cell_type": "markdown",
   "id": "45909877",
   "metadata": {},
   "source": [
    "This theory studies the **genealogical** relationships between individuals in a population. It provides a framework for understanding how genetic variation arises and is maintained over time. We start from a population of individuals and trace their lineages back in time to find their common ancestors. Some questions arises, for example:\n",
    "- How long does it take for two individuals to share a common ancestor?\n",
    "- What is the distribution of the number of ancestors at a given time in the past?\n",
    "- How does the shape of the genealogical tree change over time?  \n",
    "\n",
    "Differents models exist (Kingman coalescent, Lambda-coalescent, Wright-Fisher model, Moran model, etc.) to answer these questions and each of them assume different parameters and conditions like population size, mutation rate, coalescence rate, selection pressure (?), etc $\\dots$"
   ]
  },
  {
   "cell_type": "markdown",
   "id": "385e8ccb",
   "metadata": {},
   "source": [
    "# Exercise 3 (Kingman coalescent)"
   ]
  },
  {
   "cell_type": "markdown",
   "id": "2eada4ed",
   "metadata": {},
   "source": [
    "We start with a simple model, Kingman coalescent, from our supervised learning class : `pdf/td4_simu_mapi3_corrige.pdf` (exercise 3)"
   ]
  },
  {
   "cell_type": "markdown",
   "id": "2b8ab190",
   "metadata": {},
   "source": [
    "% Modèle Wright–Fisher haploïde pour N fini, coalescence et limite de Kingman\n",
    "\\textbf{Cadre discret pour N fini}\n",
    "\n",
    "Soit N\\in\\mathbb N^* la taille de population haploïde constante\n",
    "\n",
    "Soit g\\in\\mathbb N l'indice de génération et m\\in\\mathbb N le nombre de pas en arrière\n",
    "\n",
    "Soit un échantillon de taille n\\le N au temps g=0 et \\Pi^{(N)}_m la partition des n lignées après m générations en arrière\n",
    "\n",
    "Conditionnellement à k blocs à l'instant m on lance k boules i.i.d uniformes dans N urnes et on fusionne les boules tombant dans la même urne\n",
    "\n",
    "On a pour une chute factorielle (x)_r=x(x-1)\\dots(x-r+1\n",
    "\n",
    "\\textbf{Probabilités en un pas en arrière pour N fixé}\n",
    "\n",
    "P_{\\text{toutes distinctes}}(k,N)=(N)_k N^{-k}\n",
    "\n",
    "P_{\\text{1 }r\\text{-fusion}}(k,N)=\\binom{k}{r}\\,N\\,(N-1)_{k-r}\\,N^{-k}\\quad r\\ge2\n",
    "\n",
    "En particulier P_{\\text{1 paire}}(k,N)=\\binom{k}{2}\\,N\\,(N-1)_{k-2}\\,N^{-k}\n",
    "\n",
    "Développement pour N\\to\\infty avec k fixé\n",
    "\n",
    "P_{\\text{1 paire}}(k,N)=\\binom{k}{2}N^{-1}+O(N^{-2})\n",
    "\n",
    "P_{\\text{1 triple}}(k,N)=\\binom{k}{3}N^{-2}+O(N^{-3})\n",
    "\n",
    "Le paramètre géométrique du temps d'attente discret avant coalescence vérifie\n",
    "\n",
    "p_k(N)=1-(N)_k N^{-k}-P_{\\text{≥2 collisions}}(k,N)=\\binom{k}{2}N^{-1}+O(N^{-2})\n",
    "\n",
    "\\textbf{Pourquoi indexer m\\in\\mathbb N et non \\mathbb Z}\n",
    "\n",
    "On remonte dans le temps en comptant des générations \\Rightarrow un sens unique \\Rightarrow m\\in\\mathbb N suffit\n",
    "\n",
    "La chaîne (\\Pi^{(N)}_m)_{m\\in\\mathbb N} est une chaîne de Markov à temps discret\n",
    "\n",
    "\\textbf{Mise à l’échelle continue et processus de Markov}\n",
    "\n",
    "Soit s=m N^{-1}\\in\\mathbb R_+ et \\Pi^{(N)}(s)=\\Pi^{(N)}_{\\lfloor Ns\\rfloor}\n",
    "\n",
    "Pour une paire donnée conditionnellement à k blocs\n",
    "\n",
    "N\\,\\Pr\\{\\text{cette paire coalesce sur }[s,s+N^{-1}]\\,|\\,k\\}\\to 1\n",
    "\n",
    "Pour toute fusion multiple r\\ge3\n",
    "\n",
    "N\\,\\Pr\\{\\text{une r-fusion sur }[s,s+N^{-1}]\\,|\\,k\\}\\to 0\n",
    "\n",
    "Donc \\Pi^{(N)}\\Rightarrow \\Pi où \\Pi est le coalescent de Kingman à temps continu s\\in\\mathbb R_+\n",
    "\n",
    "Générateur sur une fonction test f de partitions quand il y a k blocs\n",
    "\n",
    "\\mathcal L f(\\pi)=\\sum_{1\\le i<j\\le k}\\bigl(f(\\pi^{ij})-f(\\pi)\\bigr)\n",
    "\n",
    "où \\pi^{ij} est la partition obtenue en fusionnant la paire i j\n",
    "\n",
    "Le taux total de k\\to k-1 vaut \\binom{k}{2} et il n’y a pas de fusions de taille r\\ge3\n",
    "\n",
    "\\textbf{Haploïde vs diploïde}\n",
    "\n",
    "Haploïde 1 jeu de chromosomes par cellule anglais haploid\n",
    "\n",
    "Diploïde 2 jeux de chromosomes par cellule anglais diploid\n",
    "\n",
    "Pour un locus autosomal neutre diploïde panmictique on remplace N par 2N dans les formules précédentes à N fini et la même mise à l’échelle s=m (2N)^{-1} donne Kingman avec les mêmes taux\n"
   ]
  },
  {
   "cell_type": "code",
   "execution_count": null,
   "id": "61cad511",
   "metadata": {
    "vscode": {
     "languageId": "plaintext"
    }
   },
   "outputs": [],
   "source": []
  },
  {
   "cell_type": "markdown",
   "id": "1aac632d",
   "metadata": {},
   "source": [
    "# "
   ]
  }
 ],
 "metadata": {
  "language_info": {
   "name": "python"
  }
 },
 "nbformat": 4,
 "nbformat_minor": 5
}
