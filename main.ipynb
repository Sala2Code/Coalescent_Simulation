{
 "cells": [
  {
   "cell_type": "markdown",
   "id": "eb0b5223",
   "metadata": {},
   "source": [
    "# Déployer ce dossier sur GitHub\n",
    "\n",
    "Procédure rapide : initialiser git, créer le repo distant (site ou `gh`), lier et pousser la branche principale."
   ]
  },
  {
   "cell_type": "code",
   "execution_count": null,
   "id": "0749ab1c",
   "metadata": {
    "vscode": {
     "languageId": "bash"
    }
   },
   "outputs": [],
   "source": [
    "# Commandes essentielles\n",
    "git init\n",
    "git add .\n",
    "git commit -m \"Initial commit\"\n",
    "# Si vous utilisez gh (optionnel) :\n",
    "gh repo create NOM_UTILISATEUR/NOM_REPO --public --source=. --remote=origin\n",
    "# Sinon, ajoutez le remote manuellement (remplacez l'URL) :\n",
    "git branch -M main\n",
    "git remote add origin git@github.com:UTILISATEUR/NOM_REPO.git\n",
    "git push -u origin main"
   ]
  }
 ],
 "metadata": {
  "language_info": {
   "name": "python"
  }
 },
 "nbformat": 4,
 "nbformat_minor": 5
}
